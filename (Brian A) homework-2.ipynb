{
 "cells": [
  {
   "cell_type": "markdown",
   "metadata": {},
   "source": [
    "# Homework 2: Numerical integration\n",
    "**Due Friday, April 17**\n",
    "\n",
    "Brian Abaoag\n",
    "\n",
    "### Homework checklist\n",
    "\n",
    "Before submitting, make sure that you\n",
    "\n",
    "- Fill in your name in the space above\n",
    "- Cite any resources that you used while working on this homework\n",
    "- 1.a. Fill in the code cell to write a function that performs integration using Simpson's rule  \n",
    "- 1.b. Run the code cell to test the function, then comment on the results below  \n",
    "- 2.a. Write your own code to evaluate the Bessel function  \n",
    "- 2.b. Run the code cell to test the function, then comment on the results below  \n",
    "- 2.c. Fill in the code block to evaluate the Bessel functions and plot the results  "
   ]
  },
  {
   "cell_type": "markdown",
   "metadata": {},
   "source": [
    "## 1. Integration with Simpson's rule\n",
    "\n",
    "Write a function to perform integration using **Simpson's rule**. The input parameters to the integrator function should be:\n",
    "* A function, $f$\n",
    "* Two real numbers giving the limits of integration\n",
    "* The number of subdivisions $N$ to use for estimating the integral\n",
    "\n",
    "There are many different ways that you could implement integration using Simpson's rule (for example, see Chapter 5 of Newman's *[Computational Physics](http://www-personal.umich.edu/~mejn/cp/chapters.html)*). You are free to choose any approach that you like. If you're already comfortable with Python, you might want to try an implementation that uses numpy arrays and [vectorization](https://realpython.com/numpy-array-programming/)."
   ]
  },
  {
   "cell_type": "markdown",
   "metadata": {},
   "source": [
    "### 1.a. Write the integration function\n",
    "\n",
    "Fill in the function outline below. If you're having trouble getting started, try writing out all the individual computations that need to be performed to estimate the integral. Then, code each one of them individually."
   ]
  },
  {
   "cell_type": "code",
   "execution_count": 46,
   "metadata": {},
   "outputs": [],
   "source": [
    "import numpy as np\n",
    "\n",
    "def integrate(f, a, b, N_div):\n",
    "    \"\"\"\n",
    "    Integrate the input univariate function, function_name, \n",
    "    between lower_limit and upper_limit using Simpson's rule \n",
    "    and return the result. The integral bounds will be \n",
    "    subdivided into N_div divisions to estimate the integral.\n",
    "    \"\"\"\n",
    "    \n",
    "    # Fill in your code here\n",
    "    \n",
    "    # Indicating that number of divisions must be even\n",
    "    \n",
    "    if N_div%2==1:\n",
    "        N_div += 1\n",
    "    \n",
    "    # Setting List of Points\n",
    "    \n",
    "    dx = (b - a) / N_div\n",
    "    \n",
    "    # Performing the sum \n",
    "    \n",
    "    total = 0\n",
    "    for i in range(N_div):\n",
    "        if i%2==0:\n",
    "            continue\n",
    "            \n",
    "        total += ( dx / 3) * (f(a + (i - 1) * dx) + 4 * f(a + i * dx) + f(a + (i + 1) * dx))\n",
    "    \n",
    "    return total # Return the result here"
   ]
  },
  {
   "cell_type": "markdown",
   "metadata": {},
   "source": [
    "### 1.b. Test the function\n",
    "\n",
    "Test your function in the cell below."
   ]
  },
  {
   "cell_type": "code",
   "execution_count": 93,
   "metadata": {},
   "outputs": [
    {
     "name": "stdout",
     "output_type": "stream",
     "text": [
      "1.0\n",
      "0.9999999999999998\n",
      "1.0000000000001494\n"
     ]
    }
   ],
   "source": [
    "def test_quad(x): \n",
    "    return 3*x**2\n",
    "\n",
    "print(integrate(test_quad, 0, 1, 100))\n",
    "print(integrate(test_quad, 0, 1, 1000))\n",
    "print(integrate(test_quad, 0, 1, 1000000000))\n",
    "\n",
    "#Just wanted to try out other computations. \n",
    "\n",
    "#Source: Lecture 4 Video from PHYS 177 GitHub"
   ]
  },
  {
   "cell_type": "code",
   "execution_count": 43,
   "metadata": {},
   "outputs": [],
   "source": [
    "def test_quad2(x):\n",
    "    return np.exp(-x**2)    \n",
    "\n",
    "#I forgot to import \"numpy\" at first, so I added imported later on.\n",
    "\n",
    "#Source: Lecture 4 Video from PHYS 177 GitHub"
   ]
  },
  {
   "cell_type": "code",
   "execution_count": 47,
   "metadata": {},
   "outputs": [
    {
     "name": "stdout",
     "output_type": "stream",
     "text": [
      "0.746824132894176\n"
     ]
    }
   ],
   "source": [
    "print(integrate(test_quad2, 0, 1, 100))\n",
    "\n",
    "#I wanted to try the print function. "
   ]
  },
  {
   "cell_type": "code",
   "execution_count": 87,
   "metadata": {},
   "outputs": [
    {
     "name": "stdout",
     "output_type": "stream",
     "text": [
      "1.098612293930536\n"
     ]
    }
   ],
   "source": [
    "def another_function(x):\n",
    "    return (1 / x)\n",
    "\n",
    "print(integrate(another_function, 1, 3, 100))\n",
    "\n",
    "#Just wanted to try out another function. \n",
    "#Source: Lecture 4 Video from PHYS 177 GitHub"
   ]
  },
  {
   "cell_type": "code",
   "execution_count": 88,
   "metadata": {
    "scrolled": true
   },
   "outputs": [
    {
     "name": "stdout",
     "output_type": "stream",
     "text": [
      "0.35178816103636\n"
     ]
    }
   ],
   "source": [
    "test1 = integrate(test_quad2, 0, 1, 100)\n",
    "test2 = integrate(another_function, 1, 3, 100)\n",
    "\n",
    "print(test2 - test1)\n",
    "\n",
    "#Just wanted to try out other operations. \n",
    "#Source: Lecture 4 Video from PHYS 177 GitHub"
   ]
  },
  {
   "cell_type": "markdown",
   "metadata": {},
   "source": [
    "Compare your output with the analytical result here. Does it perform as expected?"
   ]
  },
  {
   "cell_type": "markdown",
   "metadata": {},
   "source": [
    "Computing the integral, the answer I get for $$\\int_{0}^{1}3x^2dx=1$$ is 1. \n",
    "When I compute the integral using Simpson's Rule, the value is slightly over 1 when the number\n",
    "of divisions increases. \n",
    "\n",
    "The difference when the number of divisions is 1000000000 is:\n",
    "$$1-1.0000000000001494=.0000000000001494$$. \n",
    "It is a .0000000000001494 difference which is about an error of 1.5E-11 %."
   ]
  },
  {
   "cell_type": "code",
   "execution_count": 96,
   "metadata": {},
   "outputs": [
    {
     "name": "stdout",
     "output_type": "stream",
     "text": [
      "Yes, it does perform as expected.\n"
     ]
    }
   ],
   "source": [
    "print (\"Yes, it does perform as expected.\")"
   ]
  },
  {
   "cell_type": "markdown",
   "metadata": {},
   "source": [
    "## 2. Application: diffraction patterns generated by a circular aperture\n",
    "\n",
    "When might we need to perform numerical integration? Here is one example from Exercise 5.4 in Newman's [Computational Physics](http://www-personal.umich.edu/~mejn/cp/chapters.html) textbook.\n",
    "\n",
    "When light with wavelength $\\lambda$ passes through a circular aperture, as in a telescope, it doesn't produce just a single point of light in the focal plane. Rather, the light is *diffracted*, producing a central bright spot surrounded by alternating bright and dark rings. Mathematically, the intensity of the focused light is given by\n",
    "\n",
    "$$I(r) = \\frac{J_1(kr)}{kr}^2\\,,$$\n",
    "\n",
    "where $r$ is the distance from the center of the focal plane, $k = 2\\pi/\\lambda$, and $J_1$ is the order 1 [Bessel function](https://en.wikipedia.org/wiki/Bessel_function) of the first kind. For more information, follow the Wikipedia link. Bessel functions appear very frequently in physics.\n",
    "\n",
    "One way to define the Bessel functions $J_m$ is through an integral,\n",
    "\n",
    "$$ J_m(x) = \\frac{1}{\\pi}\\int_0^\\pi\\!d\\theta\\; \\cos(m\\theta - x \\sin \\theta) \\, $$ \n",
    "\n",
    "where $m$ is a nonnegative integer and $x\\geq 0$. \n",
    "\n",
    "In the rest of the exercise below, we'll write a function to evaluate the Bessel function using our integrator defined in part 1. Then we'll test it and plot the results."
   ]
  },
  {
   "cell_type": "markdown",
   "metadata": {},
   "source": [
    "### 2.a. Write the Bessel function\n",
    "\n",
    "Write your own version of the Bessel function by filling in the cell below. We'll assume that the number of divisions is 1000."
   ]
  },
  {
   "cell_type": "code",
   "execution_count": 75,
   "metadata": {},
   "outputs": [],
   "source": [
    "def J(m, x):\n",
    "    \"\"\"\n",
    "    mth Bessel function of the first kind evaluated at real number x,  \n",
    "    calculated using an integral representation with Simpson's rule and 1000 divisions.\n",
    "    \"\"\"\n",
    "    \n",
    "    # Fill in your code here, using the integrate function you defined in part 1\n",
    "    \n",
    "    # You might want to define a local function for the integrand\n",
    "    def integrand(theta):\n",
    "        return (1 / np.pi) * np.cos (m * theta - x * np.sin (theta)) # Return the integrand here\n",
    "    \n",
    "    total = integrate(integrand, 0, np.pi, 1000) \n",
    "    \n",
    "    return total  # Return your result here"
   ]
  },
  {
   "cell_type": "markdown",
   "metadata": {},
   "source": [
    "### 2.b. Test the function\n",
    "\n",
    "Now, test your function in the cell below."
   ]
  },
  {
   "cell_type": "code",
   "execution_count": 76,
   "metadata": {},
   "outputs": [
    {
     "name": "stdout",
     "output_type": "stream",
     "text": [
      "0.4400505857449336\n"
     ]
    }
   ],
   "source": [
    "print(J(1,1))\n",
    "\n",
    "#Sources Used:\n",
    "#Simpson's Rule Calulator (http://nastyaccident.com/calculators/calculus/displayAnswer)\n",
    "#Used to compare the computed answer."
   ]
  },
  {
   "cell_type": "markdown",
   "metadata": {},
   "source": [
    "How does this compare with the expected result? Let's check our answer against the builtin Bessel function evaluator in `scipy`."
   ]
  },
  {
   "cell_type": "code",
   "execution_count": 77,
   "metadata": {
    "scrolled": true
   },
   "outputs": [
    {
     "name": "stdout",
     "output_type": "stream",
     "text": [
      "5.551115123125783e-17\n"
     ]
    }
   ],
   "source": [
    "import scipy.special as sp\n",
    "\n",
    "print(J(1,1) - sp.jv(1, 1))"
   ]
  },
  {
   "cell_type": "markdown",
   "metadata": {},
   "source": [
    "### An aside \n",
    "\n",
    "Why are we implementing our own method to evaluate the Bessel function when another one already exists? As you might have guessed, this is just for practice, and practice works best when there are well-established results that you can compare with. \n",
    "\n",
    "In your own computational adventures, the first step in any problem is to **check whether someone else has already solved it first**. If a solution exists, it will almost always be better to use the existing software and build on top of it, rather than \"reinventing the wheel.\" Why? Consider the frenzied activity in the [numpy repository](https://github.com/numpy/numpy) on GitHub. Hundreds of people are working to ensure that numpy is fast and accurate. This is not a situation where a team of 1 can compete.\n",
    "\n",
    "However, in research or industry we may encounter niche problems that have not yet been solved, or where standard techniques fail. In these cases we may indeed need to start from the beginning."
   ]
  },
  {
   "cell_type": "markdown",
   "metadata": {},
   "source": [
    "### 2.c. Plot the Bessel function(s)\n",
    "\n",
    "Now, let's use our function `J(m, x)` to plot three different Bessel functions, $J_0(x)$, $J_1(x)$ and $J_2(x)$. Your job is to fill in the following code to produce these plots. The outline below uses `seaborn`, but you're also welcome to use `matplotlib` directly if you'd like.\n",
    "\n",
    "*Hint*: You can check your answers by consulting [Wikipedia](https://en.wikipedia.org/wiki/Bessel_function).\n",
    "\n",
    "*Hint*$^2$: Your function for evaluating the Bessel functions might take a little bit of time. You can potentially make it faster, and easier to use, with the `numpy.vectorize` function. For more information, look [here](https://docs.scipy.org/doc/numpy-1.15.0/reference/generated/numpy.vectorize.html). If you vectorize `J(m, x)` then it will be able to operate on entire numpy arrays at once."
   ]
  },
  {
   "cell_type": "code",
   "execution_count": 99,
   "metadata": {},
   "outputs": [
    {
     "name": "stderr",
     "output_type": "stream",
     "text": [
      "/Users/brianabaoag/opt/anaconda3/lib/python3.7/site-packages/seaborn/relational.py:823: MatplotlibDeprecationWarning: Saw kwargs ['c', 'color'] which are all aliases for 'color'.  Kept value from 'color'.  Passing multiple aliases for the same property will raise a TypeError in 3.3.\n",
      "  line, = ax.plot([], [], **kws)\n",
      "/Users/brianabaoag/opt/anaconda3/lib/python3.7/site-packages/seaborn/relational.py:834: MatplotlibDeprecationWarning: Saw kwargs ['c', 'color'] which are all aliases for 'color'.  Kept value from 'color'.  Passing multiple aliases for the same property will raise a TypeError in 3.3.\n",
      "  line, = ax.plot(x, y, **kws)\n",
      "/Users/brianabaoag/opt/anaconda3/lib/python3.7/site-packages/seaborn/relational.py:823: MatplotlibDeprecationWarning: Saw kwargs ['c', 'color'] which are all aliases for 'color'.  Kept value from 'color'.  Passing multiple aliases for the same property will raise a TypeError in 3.3.\n",
      "  line, = ax.plot([], [], **kws)\n",
      "/Users/brianabaoag/opt/anaconda3/lib/python3.7/site-packages/seaborn/relational.py:834: MatplotlibDeprecationWarning: Saw kwargs ['c', 'color'] which are all aliases for 'color'.  Kept value from 'color'.  Passing multiple aliases for the same property will raise a TypeError in 3.3.\n",
      "  line, = ax.plot(x, y, **kws)\n",
      "/Users/brianabaoag/opt/anaconda3/lib/python3.7/site-packages/seaborn/relational.py:823: MatplotlibDeprecationWarning: Saw kwargs ['c', 'color'] which are all aliases for 'color'.  Kept value from 'color'.  Passing multiple aliases for the same property will raise a TypeError in 3.3.\n",
      "  line, = ax.plot([], [], **kws)\n",
      "/Users/brianabaoag/opt/anaconda3/lib/python3.7/site-packages/seaborn/relational.py:834: MatplotlibDeprecationWarning: Saw kwargs ['c', 'color'] which are all aliases for 'color'.  Kept value from 'color'.  Passing multiple aliases for the same property will raise a TypeError in 3.3.\n",
      "  line, = ax.plot(x, y, **kws)\n"
     ]
    },
    {
     "data": {
      "text/plain": [
       "<matplotlib.axes._subplots.AxesSubplot at 0x1a22e38b90>"
      ]
     },
     "execution_count": 99,
     "metadata": {},
     "output_type": "execute_result"
    },
    {
     "data": {
      "image/png": "[encoded data removed]",
      "text/plain": [
       "<Figure size 432x288 with 1 Axes>"
      ]
     },
     "metadata": {
      "needs_background": "light"
     },
     "output_type": "display_data"
    }
   ],
   "source": [
    "import seaborn as sns\n",
    "import numpy as np\n",
    "\n",
    "# x sample points\n",
    "x = np.linspace(0, 20, 200)\n",
    "np.vectorize (J)\n",
    "\n",
    "y0 = J(0,x) # FILL THIS IN, y-values of J0(x)\n",
    "y1 = J(1,x) # FILL THIS IN, y-values of J1(x)\n",
    "y2 = J(2,x) # FILL THIS IN, y-values of J2(x)\n",
    "\n",
    "sns.lineplot(x, y0, label='$J_0(x)$', c=\"red\")\n",
    "\n",
    "sns.lineplot(x, y1, label='$J_1(x)$', c=\"blue\")\n",
    "\n",
    "sns.lineplot(x, y2, label='$J_2(x)$', c=\"purple\") \n",
    "\n",
    "#Sources used:\n",
    "#Bessel Function Information from Wikipedia (https://en.wikipedia.org/wiki/Bessel_function#Bessel's_integrals)\n",
    "#Vectorize Function (https://docs.scipy.org/doc/numpy-1.15.0/reference/generated/numpy.vectorize.html)\n",
    "#Both sources used for information to code the plot. "
   ]
  },
  {
   "cell_type": "code",
   "execution_count": null,
   "metadata": {},
   "outputs": [],
   "source": []
  }
 ],
 "metadata": {
  "kernelspec": {
   "display_name": "Python 3",
   "language": "python",
   "name": "python3"
  },
  "language_info": {
   "codemirror_mode": {
    "name": "ipython",
    "version": 3
   },
   "file_extension": ".py",
   "mimetype": "text/x-python",
   "name": "python",
   "nbconvert_exporter": "python",
   "pygments_lexer": "ipython3",
   "version": "3.7.6"
  }
 },
 "nbformat": 4,
 "nbformat_minor": 2
}
